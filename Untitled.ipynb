{
 "cells": [
  {
   "cell_type": "code",
   "execution_count": 1,
   "id": "16e36fc8",
   "metadata": {},
   "outputs": [],
   "source": [
    "import pandas as pd\n",
    "import numpy as np\n",
    "import matplotlib.pyplot as plt\n",
    "import os\n",
    "from torch.utils.data import Dataset\n",
    "from torchvision.io import read_image\n",
    "from torchvision import transforms\n",
    "from PIL import Image\n",
    "import torch as T\n",
    "import torch.nn.functional as F\n",
    "from sklearn.preprocessing import OneHotEncoder\n",
    "from torch.utils.data import DataLoader\n",
    "import torchvision\n",
    "import torch.nn as nn\n",
    "from tqdm.autonotebook import tqdm"
   ]
  },
  {
   "cell_type": "code",
   "execution_count": 2,
   "id": "4cb3bb09",
   "metadata": {},
   "outputs": [],
   "source": [
    "columns = [\"image_name\", \"file_name\", \"url\", \"book_name\", \"writer\", \"category_label\", \"category_name\"]"
   ]
  },
  {
   "cell_type": "code",
   "execution_count": 3,
   "id": "e8b7be35",
   "metadata": {},
   "outputs": [],
   "source": [
    "def load_df(csv_file):\n",
    "    df = pd.read_csv(csv_file, encoding=\"ISO-8859-1\", header=None, names=columns)\n",
    "    df.file_name = df.file_name.transform(lambda x: os.path.join(\"dataset\", \"224x224\", x))\n",
    "    return df\n",
    "\n",
    "def count_categories(df):\n",
    "    return df.groupby(columns[-1]).count()[\"image_name\"]"
   ]
  },
  {
   "cell_type": "code",
   "execution_count": 4,
   "id": "debaa5bb",
   "metadata": {},
   "outputs": [
    {
     "name": "stdout",
     "output_type": "stream",
     "text": [
      "Total Train Data: 51300\n"
     ]
    },
    {
     "data": {
      "text/plain": [
       "category_name\n",
       "Arts & Photography              1710\n",
       "Biographies & Memoirs           1710\n",
       "Business & Money                1710\n",
       "Calendars                       1710\n",
       "Children's Books                1710\n",
       "Christian Books & Bibles        1710\n",
       "Comics & Graphic Novels         1710\n",
       "Computers & Technology          1710\n",
       "Cookbooks, Food & Wine          1710\n",
       "Crafts, Hobbies & Home          1710\n",
       "Engineering & Transportation    1710\n",
       "Health, Fitness & Dieting       1710\n",
       "History                         1710\n",
       "Humor & Entertainment           1710\n",
       "Law                             1710\n",
       "Literature & Fiction            1710\n",
       "Medical Books                   1710\n",
       "Mystery, Thriller & Suspense    1710\n",
       "Parenting & Relationships       1710\n",
       "Politics & Social Sciences      1710\n",
       "Reference                       1710\n",
       "Religion & Spirituality         1710\n",
       "Romance                         1710\n",
       "Science & Math                  1710\n",
       "Science Fiction & Fantasy       1710\n",
       "Self-Help                       1710\n",
       "Sports & Outdoors               1710\n",
       "Teen & Young Adult              1710\n",
       "Test Preparation                1710\n",
       "Travel                          1710\n",
       "Name: image_name, dtype: int64"
      ]
     },
     "execution_count": 4,
     "metadata": {},
     "output_type": "execute_result"
    }
   ],
   "source": [
    "df_train = load_df(\"./dataset/book30-listing-train.csv\")\n",
    "print(f\"Total Train Data: {len(df_train)}\")\n",
    "count_categories(df_train)"
   ]
  },
  {
   "cell_type": "code",
   "execution_count": 5,
   "id": "30303958",
   "metadata": {},
   "outputs": [
    {
     "name": "stdout",
     "output_type": "stream",
     "text": [
      "Total Test Data: 5700\n"
     ]
    },
    {
     "data": {
      "text/plain": [
       "category_name\n",
       "Arts & Photography              190\n",
       "Biographies & Memoirs           190\n",
       "Business & Money                190\n",
       "Calendars                       190\n",
       "Children's Books                190\n",
       "Christian Books & Bibles        190\n",
       "Comics & Graphic Novels         190\n",
       "Computers & Technology          190\n",
       "Cookbooks, Food & Wine          190\n",
       "Crafts, Hobbies & Home          190\n",
       "Engineering & Transportation    190\n",
       "Health, Fitness & Dieting       190\n",
       "History                         190\n",
       "Humor & Entertainment           190\n",
       "Law                             190\n",
       "Literature & Fiction            190\n",
       "Medical Books                   190\n",
       "Mystery, Thriller & Suspense    190\n",
       "Parenting & Relationships       190\n",
       "Politics & Social Sciences      190\n",
       "Reference                       190\n",
       "Religion & Spirituality         190\n",
       "Romance                         190\n",
       "Science & Math                  190\n",
       "Science Fiction & Fantasy       190\n",
       "Self-Help                       190\n",
       "Sports & Outdoors               190\n",
       "Teen & Young Adult              190\n",
       "Test Preparation                190\n",
       "Travel                          190\n",
       "Name: image_name, dtype: int64"
      ]
     },
     "execution_count": 5,
     "metadata": {},
     "output_type": "execute_result"
    }
   ],
   "source": [
    "df_test = load_df(\"./dataset/book30-listing-test.csv\")\n",
    "print(f\"Total Test Data: {len(df_test)}\")\n",
    "count_categories(df_test)"
   ]
  },
  {
   "cell_type": "code",
   "execution_count": 6,
   "id": "6ea71783",
   "metadata": {},
   "outputs": [],
   "source": [
    "class BookCoverDataset(Dataset):\n",
    "    def __init__(self, df):\n",
    "        self.df = df\n",
    "        self.images = list(self.df.file_name)\n",
    "        self.labels = F.one_hot(T.LongTensor(self.df.category_label), num_classes=30).to(T.float32)\n",
    "        \n",
    "    def __len__(self):\n",
    "        return len(self.images)\n",
    "    \n",
    "    def __getitem__(self, idx):\n",
    "        image = read_image(self.images[idx]) / 255.0\n",
    "        return image, self.labels[idx]"
   ]
  },
  {
   "cell_type": "code",
   "execution_count": 7,
   "id": "a8e208ee",
   "metadata": {},
   "outputs": [],
   "source": [
    "train_data = BookCoverDataset(df_train)\n",
    "train_data = DataLoader(train_data, batch_size=64)\n",
    "test_data = BookCoverDataset(df_test)\n",
    "test_data = DataLoader(test_data, batch_size=64)"
   ]
  },
  {
   "cell_type": "code",
   "execution_count": 8,
   "id": "831b17d7",
   "metadata": {
    "scrolled": false
   },
   "outputs": [],
   "source": [
    "model = torchvision.models.resnet50(pretrained=True)"
   ]
  },
  {
   "cell_type": "code",
   "execution_count": 9,
   "id": "c41d1cec",
   "metadata": {},
   "outputs": [],
   "source": [
    "for param in model.parameters():\n",
    "    param.requires_grad = False"
   ]
  },
  {
   "cell_type": "code",
   "execution_count": 10,
   "id": "1006c356",
   "metadata": {},
   "outputs": [],
   "source": [
    "model.fc = nn.Sequential(\n",
    "    nn.Linear(2048, 512),\n",
    "    nn.ReLU(),\n",
    "    nn.Linear(512, 512),\n",
    "    nn.ReLU(),\n",
    "    nn.Linear(512, 30),\n",
    "    nn.Softmax(dim=1)\n",
    ")"
   ]
  },
  {
   "cell_type": "code",
   "execution_count": 11,
   "id": "20f061bb",
   "metadata": {},
   "outputs": [],
   "source": [
    "model = model.to(\"cuda:0\")"
   ]
  },
  {
   "cell_type": "code",
   "execution_count": 12,
   "id": "f8573df3",
   "metadata": {},
   "outputs": [],
   "source": [
    "def validate_model(model: nn.Module, test_data: DataLoader):\n",
    "    criterion = nn.CrossEntropyLoss()\n",
    "    total_loss = 0\n",
    "    model.eval()\n",
    "    for x, y in test_data:\n",
    "        x = x.to(\"cuda:0\")\n",
    "        y = y.to(\"cuda:0\")\n",
    "        y_p = model(x)\n",
    "        total_loss += criterion(y_p, y).item()\n",
    "    return total_loss"
   ]
  },
  {
   "cell_type": "code",
   "execution_count": 16,
   "id": "448a0ecb",
   "metadata": {},
   "outputs": [],
   "source": [
    "def train_model(model: nn.Module, train_data: DataLoader, test_data: DataLoader, epochs):\n",
    "    model.train()\n",
    "    optimizer = T.optim.Adam(model.parameters())\n",
    "    history = {\n",
    "        \"train\": [],\n",
    "        \"valid\": []\n",
    "    }\n",
    "    for epoch in (pbar := tqdm(range(epochs))):\n",
    "        train_loss = 0\n",
    "        for b, (x, y) in enumerate(train_data):\n",
    "            x = x.to(\"cuda:0\")\n",
    "            y = y.to(\"cuda:0\")\n",
    "            loss = F.cross_entropy(y, model(x))\n",
    "            train_loss += loss.item()\n",
    "            optimizer.zero_grad()\n",
    "            loss.backward()\n",
    "            optimizer.step()\n",
    "        val_loss = validate_model(model, test_data)\n",
    "        pbar.set_description(f\"#{epoch + 1} train_loss = {train_loss} | val_loss = {val_loss}\")\n",
    "        history[\"train\"].append(train_loss)\n",
    "        history[\"valid\"].append(val_loss)\n",
    "    return history"
   ]
  },
  {
   "cell_type": "code",
   "execution_count": null,
   "id": "f46f6596",
   "metadata": {},
   "outputs": [
    {
     "data": {
      "application/vnd.jupyter.widget-view+json": {
       "model_id": "2b8112e80fc841889f66d535064ff35c",
       "version_major": 2,
       "version_minor": 0
      },
      "text/plain": [
       "  0%|          | 0/100 [00:00<?, ?it/s]"
      ]
     },
     "metadata": {},
     "output_type": "display_data"
    }
   ],
   "source": [
    "train_model(model, train_data, test_data, 100)"
   ]
  },
  {
   "cell_type": "code",
   "execution_count": null,
   "id": "7fde35ec",
   "metadata": {},
   "outputs": [],
   "source": [
    "T.cuda.empty_cache()"
   ]
  },
  {
   "cell_type": "code",
   "execution_count": null,
   "id": "20e5a25f",
   "metadata": {},
   "outputs": [],
   "source": [
    "2745\n"
   ]
  }
 ],
 "metadata": {
  "kernelspec": {
   "display_name": "Python 3 (ipykernel)",
   "language": "python",
   "name": "python3"
  },
  "language_info": {
   "codemirror_mode": {
    "name": "ipython",
    "version": 3
   },
   "file_extension": ".py",
   "mimetype": "text/x-python",
   "name": "python",
   "nbconvert_exporter": "python",
   "pygments_lexer": "ipython3",
   "version": "3.9.7"
  }
 },
 "nbformat": 4,
 "nbformat_minor": 5
}
